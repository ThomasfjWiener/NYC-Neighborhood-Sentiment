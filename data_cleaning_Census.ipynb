{
 "cells": [
  {
   "cell_type": "code",
   "execution_count": 130,
   "metadata": {},
   "outputs": [],
   "source": [
    "import pandas as pd"
   ]
  },
  {
   "cell_type": "code",
   "execution_count": 131,
   "metadata": {},
   "outputs": [],
   "source": [
    "census_df = pd.read_csv('github_data/census_data_cbg_extracted.csv')"
   ]
  },
  {
   "cell_type": "code",
   "execution_count": 132,
   "metadata": {},
   "outputs": [
    {
     "data": {
      "text/plain": [
       "Total Population           float64\n",
       "Median household income    float64\n",
       "Median Gross Rent          float64\n",
       "Median Age                 float64\n",
       "state                       object\n",
       "county                      object\n",
       "tract                       object\n",
       "block group                 object\n",
       "Percent White              float64\n",
       "dtype: object"
      ]
     },
     "execution_count": 132,
     "metadata": {},
     "output_type": "execute_result"
    }
   ],
   "source": [
    "census_df.dtypes"
   ]
  },
  {
   "cell_type": "code",
   "execution_count": 133,
   "metadata": {},
   "outputs": [
    {
     "data": {
      "text/html": [
       "<div>\n",
       "<style scoped>\n",
       "    .dataframe tbody tr th:only-of-type {\n",
       "        vertical-align: middle;\n",
       "    }\n",
       "\n",
       "    .dataframe tbody tr th {\n",
       "        vertical-align: top;\n",
       "    }\n",
       "\n",
       "    .dataframe thead th {\n",
       "        text-align: right;\n",
       "    }\n",
       "</style>\n",
       "<table border=\"1\" class=\"dataframe\">\n",
       "  <thead>\n",
       "    <tr style=\"text-align: right;\">\n",
       "      <th></th>\n",
       "      <th>Total Population</th>\n",
       "      <th>Median household income</th>\n",
       "      <th>Median Gross Rent</th>\n",
       "      <th>Median Age</th>\n",
       "      <th>state</th>\n",
       "      <th>county</th>\n",
       "      <th>tract</th>\n",
       "      <th>block group</th>\n",
       "      <th>Percent White</th>\n",
       "      <th>CBG_ID</th>\n",
       "      <th>TRACT_ID</th>\n",
       "    </tr>\n",
       "  </thead>\n",
       "  <tbody>\n",
       "    <tr>\n",
       "      <th>0</th>\n",
       "      <td>1016.0</td>\n",
       "      <td>NaN</td>\n",
       "      <td>432.0</td>\n",
       "      <td>30.8</td>\n",
       "      <td>36</td>\n",
       "      <td>005</td>\n",
       "      <td>006900</td>\n",
       "      <td>3</td>\n",
       "      <td>0.039370</td>\n",
       "      <td>360050069003</td>\n",
       "      <td>36005006900</td>\n",
       "    </tr>\n",
       "    <tr>\n",
       "      <th>1</th>\n",
       "      <td>712.0</td>\n",
       "      <td>67072.0</td>\n",
       "      <td>1593.0</td>\n",
       "      <td>42.1</td>\n",
       "      <td>36</td>\n",
       "      <td>005</td>\n",
       "      <td>041800</td>\n",
       "      <td>1</td>\n",
       "      <td>0.060393</td>\n",
       "      <td>360050418001</td>\n",
       "      <td>36005041800</td>\n",
       "    </tr>\n",
       "    <tr>\n",
       "      <th>2</th>\n",
       "      <td>978.0</td>\n",
       "      <td>74722.0</td>\n",
       "      <td>1628.0</td>\n",
       "      <td>37.5</td>\n",
       "      <td>36</td>\n",
       "      <td>005</td>\n",
       "      <td>016200</td>\n",
       "      <td>2</td>\n",
       "      <td>0.525562</td>\n",
       "      <td>360050162002</td>\n",
       "      <td>36005016200</td>\n",
       "    </tr>\n",
       "    <tr>\n",
       "      <th>3</th>\n",
       "      <td>2399.0</td>\n",
       "      <td>13783.0</td>\n",
       "      <td>435.0</td>\n",
       "      <td>37.2</td>\n",
       "      <td>36</td>\n",
       "      <td>005</td>\n",
       "      <td>020501</td>\n",
       "      <td>2</td>\n",
       "      <td>0.071697</td>\n",
       "      <td>360050205012</td>\n",
       "      <td>36005020501</td>\n",
       "    </tr>\n",
       "    <tr>\n",
       "      <th>4</th>\n",
       "      <td>668.0</td>\n",
       "      <td>20139.0</td>\n",
       "      <td>1108.0</td>\n",
       "      <td>26.9</td>\n",
       "      <td>36</td>\n",
       "      <td>005</td>\n",
       "      <td>017902</td>\n",
       "      <td>2</td>\n",
       "      <td>0.079341</td>\n",
       "      <td>360050179022</td>\n",
       "      <td>36005017902</td>\n",
       "    </tr>\n",
       "  </tbody>\n",
       "</table>\n",
       "</div>"
      ],
      "text/plain": [
       "   Total Population  Median household income  Median Gross Rent  Median Age  \\\n",
       "0            1016.0                      NaN              432.0        30.8   \n",
       "1             712.0                  67072.0             1593.0        42.1   \n",
       "2             978.0                  74722.0             1628.0        37.5   \n",
       "3            2399.0                  13783.0              435.0        37.2   \n",
       "4             668.0                  20139.0             1108.0        26.9   \n",
       "\n",
       "  state county   tract block group  Percent White        CBG_ID     TRACT_ID  \n",
       "0    36    005  006900           3       0.039370  360050069003  36005006900  \n",
       "1    36    005  041800           1       0.060393  360050418001  36005041800  \n",
       "2    36    005  016200           2       0.525562  360050162002  36005016200  \n",
       "3    36    005  020501           2       0.071697  360050205012  36005020501  \n",
       "4    36    005  017902           2       0.079341  360050179022  36005017902  "
      ]
     },
     "execution_count": 133,
     "metadata": {},
     "output_type": "execute_result"
    }
   ],
   "source": [
    "# create unique id\n",
    "census_df['CBG_ID'] = (census_df['state'].astype(str) + \n",
    "                       census_df['county'].astype(str).str.zfill(3) +\n",
    "                       census_df['tract'].astype(str).str.zfill(6) + \n",
    "                       census_df['block group'].astype(str))\n",
    "census_df['TRACT_ID'] = (census_df['state'].astype(str) + \n",
    "                       census_df['county'].astype(str).str.zfill(3) +\n",
    "                       census_df['tract'].astype(str).str.zfill(6))\n",
    "census_df.head()"
   ]
  },
  {
   "cell_type": "code",
   "execution_count": 134,
   "metadata": {},
   "outputs": [
    {
     "name": "stdout",
     "output_type": "stream",
     "text": [
      "271\n",
      "271\n",
      "275\n"
     ]
    }
   ],
   "source": [
    "# Drop if 0 population\n",
    "mask = (census_df[['Total Population']] != 0).all(axis=1)\n",
    "print(len(census_df) - sum(mask))\n",
    "pre_filtered_df = census_df.loc[mask]\n",
    "print(len(census_df) - len(pre_filtered_df))\n",
    "pre_filtered_df = pre_filtered_df.dropna(subset=['Total Population'])\n",
    "print(len(census_df) - len(pre_filtered_df))"
   ]
  },
  {
   "cell_type": "code",
   "execution_count": 135,
   "metadata": {},
   "outputs": [
    {
     "name": "stdout",
     "output_type": "stream",
     "text": [
      "777\n",
      "3\n",
      "Columns with any NaN values: ['Median household income', 'Median Gross Rent', 'Median Age']\n"
     ]
    }
   ],
   "source": [
    "nan_rows_count = pre_filtered_df.isna().any(axis=1).sum()\n",
    "print(nan_rows_count)\n",
    "nan_columns_count = pre_filtered_df.isna().any(axis=0).sum()\n",
    "print(nan_columns_count)\n",
    "nan_columns = pre_filtered_df.columns[pre_filtered_df.isna().any()].tolist()\n",
    "print(f\"Columns with any NaN values: {nan_columns}\")"
   ]
  },
  {
   "cell_type": "code",
   "execution_count": 136,
   "metadata": {},
   "outputs": [
    {
     "name": "stdout",
     "output_type": "stream",
     "text": [
      "6497\n"
     ]
    }
   ],
   "source": [
    "print(len(census_df))"
   ]
  },
  {
   "cell_type": "markdown",
   "metadata": {},
   "source": [
    "### Performing mean/median imputation for missing values"
   ]
  },
  {
   "cell_type": "code",
   "execution_count": 137,
   "metadata": {},
   "outputs": [],
   "source": [
    "tract_df = pd.read_csv('github_data/census_data_tract_extracted.csv')"
   ]
  },
  {
   "cell_type": "code",
   "execution_count": 138,
   "metadata": {},
   "outputs": [
    {
     "name": "stdout",
     "output_type": "stream",
     "text": [
      "44\n",
      "44\n",
      "48\n",
      "35\n",
      "3\n",
      "Columns with any NaN values: ['Median household income', 'Median Gross Rent', 'Median Age']\n"
     ]
    },
    {
     "data": {
      "text/html": [
       "<div>\n",
       "<style scoped>\n",
       "    .dataframe tbody tr th:only-of-type {\n",
       "        vertical-align: middle;\n",
       "    }\n",
       "\n",
       "    .dataframe tbody tr th {\n",
       "        vertical-align: top;\n",
       "    }\n",
       "\n",
       "    .dataframe thead th {\n",
       "        text-align: right;\n",
       "    }\n",
       "</style>\n",
       "<table border=\"1\" class=\"dataframe\">\n",
       "  <thead>\n",
       "    <tr style=\"text-align: right;\">\n",
       "      <th></th>\n",
       "      <th>Total Population</th>\n",
       "      <th>Median household income</th>\n",
       "      <th>Median Gross Rent</th>\n",
       "      <th>Median Age</th>\n",
       "      <th>state</th>\n",
       "      <th>county</th>\n",
       "      <th>tract</th>\n",
       "      <th>Percent White</th>\n",
       "      <th>TRACT_ID</th>\n",
       "    </tr>\n",
       "  </thead>\n",
       "  <tbody>\n",
       "    <tr>\n",
       "      <th>0</th>\n",
       "      <td>1971.0</td>\n",
       "      <td>17778.0</td>\n",
       "      <td>494.0</td>\n",
       "      <td>39.5</td>\n",
       "      <td>36</td>\n",
       "      <td>005</td>\n",
       "      <td>015900</td>\n",
       "      <td>0.179604</td>\n",
       "      <td>36005015900</td>\n",
       "    </tr>\n",
       "    <tr>\n",
       "      <th>1</th>\n",
       "      <td>4812.0</td>\n",
       "      <td>31225.0</td>\n",
       "      <td>1374.0</td>\n",
       "      <td>30.4</td>\n",
       "      <td>36</td>\n",
       "      <td>005</td>\n",
       "      <td>017701</td>\n",
       "      <td>0.124480</td>\n",
       "      <td>36005017701</td>\n",
       "    </tr>\n",
       "    <tr>\n",
       "      <th>2</th>\n",
       "      <td>5786.0</td>\n",
       "      <td>33426.0</td>\n",
       "      <td>1137.0</td>\n",
       "      <td>32.2</td>\n",
       "      <td>36</td>\n",
       "      <td>005</td>\n",
       "      <td>017702</td>\n",
       "      <td>0.114760</td>\n",
       "      <td>36005017702</td>\n",
       "    </tr>\n",
       "    <tr>\n",
       "      <th>3</th>\n",
       "      <td>5006.0</td>\n",
       "      <td>37127.0</td>\n",
       "      <td>1219.0</td>\n",
       "      <td>29.9</td>\n",
       "      <td>36</td>\n",
       "      <td>005</td>\n",
       "      <td>017901</td>\n",
       "      <td>0.123452</td>\n",
       "      <td>36005017901</td>\n",
       "    </tr>\n",
       "    <tr>\n",
       "      <th>4</th>\n",
       "      <td>3701.0</td>\n",
       "      <td>23276.0</td>\n",
       "      <td>1182.0</td>\n",
       "      <td>32.6</td>\n",
       "      <td>36</td>\n",
       "      <td>005</td>\n",
       "      <td>017902</td>\n",
       "      <td>0.131046</td>\n",
       "      <td>36005017902</td>\n",
       "    </tr>\n",
       "  </tbody>\n",
       "</table>\n",
       "</div>"
      ],
      "text/plain": [
       "   Total Population  Median household income  Median Gross Rent  Median Age  \\\n",
       "0            1971.0                  17778.0              494.0        39.5   \n",
       "1            4812.0                  31225.0             1374.0        30.4   \n",
       "2            5786.0                  33426.0             1137.0        32.2   \n",
       "3            5006.0                  37127.0             1219.0        29.9   \n",
       "4            3701.0                  23276.0             1182.0        32.6   \n",
       "\n",
       "  state county   tract  Percent White     TRACT_ID  \n",
       "0    36    005  015900       0.179604  36005015900  \n",
       "1    36    005  017701       0.124480  36005017701  \n",
       "2    36    005  017702       0.114760  36005017702  \n",
       "3    36    005  017901       0.123452  36005017901  \n",
       "4    36    005  017902       0.131046  36005017902  "
      ]
     },
     "execution_count": 138,
     "metadata": {},
     "output_type": "execute_result"
    }
   ],
   "source": [
    "tract_df['TRACT_ID'] = (tract_df['state'].astype(str) + \n",
    "                       tract_df['county'].astype(str) +\n",
    "                       tract_df['tract'].astype(str))\n",
    "\n",
    "# Drop if 0 population\n",
    "mask_t = (tract_df[['Total Population']] != 0).all(axis=1)\n",
    "print(len(tract_df) - sum(mask_t))\n",
    "pre_filtered_tract_df = tract_df.loc[mask_t]\n",
    "print(len(tract_df) - len(pre_filtered_tract_df))\n",
    "pre_filtered_tract_df = pre_filtered_tract_df.dropna(subset=['Total Population'])\n",
    "print(len(tract_df) - len(pre_filtered_tract_df))\n",
    "\n",
    "\n",
    "nan_rows_count = pre_filtered_tract_df.isna().any(axis=1).sum()\n",
    "print(nan_rows_count)\n",
    "nan_columns_count = pre_filtered_tract_df.isna().any(axis=0).sum()\n",
    "print(nan_columns_count)\n",
    "nan_columns = pre_filtered_tract_df.columns[pre_filtered_tract_df.isna().any()].tolist()\n",
    "print(f\"Columns with any NaN values: {nan_columns}\")\n",
    "\n",
    "pre_filtered_tract_df.head()"
   ]
  },
  {
   "cell_type": "code",
   "execution_count": 139,
   "metadata": {},
   "outputs": [],
   "source": [
    "pre_filtered_tract_df.rename(columns={'Median Age': 'Imputed Median Age', 'Median Gross Rent': 'Imputed Median Gross Rent', 'Median household income': 'Imputed Median household income'}, inplace=True)\n",
    "pre_filtered_tract_df = pre_filtered_tract_df[['TRACT_ID','Imputed Median Age','Imputed Median Gross Rent','Imputed Median household income']]"
   ]
  },
  {
   "cell_type": "code",
   "execution_count": 140,
   "metadata": {},
   "outputs": [],
   "source": [
    "# pre_filtered_df = pd.merge(pre_filtered_df, pre_filtered_tract_df, on='TRACT_ID', how='left')\n",
    "# pre_filtered_df['Median Age'] = pre_filtered_df['Median Age'].fillna(pre_filtered_df['Imputed Median Age'])\n",
    "# pre_filtered_df.drop(columns=['Imputed Median Age','Imputed Median Gross Rent','Imputed Median household income'], inplace=True)"
   ]
  },
  {
   "cell_type": "code",
   "execution_count": 141,
   "metadata": {},
   "outputs": [],
   "source": [
    "# Calculate the median 'Median Age' for each 'TRACT_ID' group\n",
    "median_age_by_tract = pre_filtered_df.groupby('TRACT_ID')['Median Age'].transform('median')\n",
    "# median_age_by_tract = pre_filtered_tract_df.groupby('TRACT_ID')['Median Age'].transform('median')\n",
    "\n",
    "# Fill NaN values in 'Median Age' with the group-specific median value\n",
    "pre_filtered_df['Median Age'] = pre_filtered_df['Median Age'].fillna(median_age_by_tract)"
   ]
  },
  {
   "cell_type": "code",
   "execution_count": 142,
   "metadata": {},
   "outputs": [],
   "source": [
    "median_gr_by_tract = pre_filtered_df.groupby('TRACT_ID')['Median Gross Rent'].transform('median')\n",
    "# median_gr_by_tract = pre_filtered_tract_df.groupby('TRACT_ID')['Median Gross Rent'].transform('median')\n",
    "\n",
    "# Fill NaN values in 'Median Age' with the group-specific median value\n",
    "pre_filtered_df['Median Gross Rent'] = pre_filtered_df['Median Gross Rent'].fillna(median_gr_by_tract)\n",
    "\n",
    "median_HHincome_by_tract = pre_filtered_df.groupby('TRACT_ID')['Median household income'].transform('median')\n",
    "# median_HHincome_by_tract = pre_filtered_tract_df.groupby('TRACT_ID')['Median household income'].transform('median')\n",
    "\n",
    "# Fill NaN values in 'Median Age' with the group-specific median value\n",
    "pre_filtered_df['Median household income'] = pre_filtered_df['Median household income'].fillna(median_HHincome_by_tract)"
   ]
  },
  {
   "cell_type": "code",
   "execution_count": 143,
   "metadata": {},
   "outputs": [
    {
     "name": "stdout",
     "output_type": "stream",
     "text": [
      "57\n",
      "3\n",
      "Columns with any NaN values: ['Median household income', 'Median Gross Rent', 'Median Age']\n"
     ]
    }
   ],
   "source": [
    "nan_rows_count = pre_filtered_df.isna().any(axis=1).sum()\n",
    "print(nan_rows_count)\n",
    "nan_columns_count = pre_filtered_df.isna().any(axis=0).sum()\n",
    "print(nan_columns_count)\n",
    "nan_columns = pre_filtered_df.columns[pre_filtered_df.isna().any()].tolist()\n",
    "print(f\"Columns with any NaN values: {nan_columns}\")"
   ]
  },
  {
   "cell_type": "code",
   "execution_count": 147,
   "metadata": {},
   "outputs": [],
   "source": [
    "pre_filtered_df.to_csv('github_data/census_for_merge.csv', index=False)"
   ]
  },
  {
   "cell_type": "code",
   "execution_count": 144,
   "metadata": {},
   "outputs": [
    {
     "name": "stdout",
     "output_type": "stream",
     "text": [
      "6222\n"
     ]
    }
   ],
   "source": [
    "print(len(pre_filtered_df))"
   ]
  }
 ],
 "metadata": {
  "kernelspec": {
   "display_name": "base",
   "language": "python",
   "name": "python3"
  },
  "language_info": {
   "codemirror_mode": {
    "name": "ipython",
    "version": 3
   },
   "file_extension": ".py",
   "mimetype": "text/x-python",
   "name": "python",
   "nbconvert_exporter": "python",
   "pygments_lexer": "ipython3",
   "version": "3.11.8"
  }
 },
 "nbformat": 4,
 "nbformat_minor": 2
}
