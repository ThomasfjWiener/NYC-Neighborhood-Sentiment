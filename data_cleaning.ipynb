{
 "cells": [
  {
   "cell_type": "code",
   "execution_count": 16,
   "metadata": {},
   "outputs": [],
   "source": [
    "import pandas as pd"
   ]
  },
  {
   "cell_type": "code",
   "execution_count": 17,
   "metadata": {},
   "outputs": [],
   "source": [
    "nyc_complaint_df = pd.read_csv('data/NYPD_Complaint_Data_Historic_20240415.csv')"
   ]
  },
  {
   "cell_type": "code",
   "execution_count": 18,
   "metadata": {},
   "outputs": [
    {
     "name": "stdout",
     "output_type": "stream",
     "text": [
      "856507\n",
      "Index(['CMPLNT_NUM', 'CMPLNT_FR_DT', 'CMPLNT_FR_TM', 'CMPLNT_TO_DT',\n",
      "       'CMPLNT_TO_TM', 'ADDR_PCT_CD', 'RPT_DT', 'KY_CD', 'OFNS_DESC', 'PD_CD',\n",
      "       'PD_DESC', 'CRM_ATPT_CPTD_CD', 'LAW_CAT_CD', 'BORO_NM',\n",
      "       'LOC_OF_OCCUR_DESC', 'PREM_TYP_DESC', 'JURIS_DESC', 'JURISDICTION_CODE',\n",
      "       'PARKS_NM', 'HADEVELOPT', 'HOUSING_PSA', 'X_COORD_CD', 'Y_COORD_CD',\n",
      "       'SUSP_AGE_GROUP', 'SUSP_RACE', 'SUSP_SEX', 'TRANSIT_DISTRICT',\n",
      "       'Latitude', 'Longitude', 'Lat_Lon', 'PATROL_BORO', 'STATION_NAME',\n",
      "       'VIC_AGE_GROUP', 'VIC_RACE', 'VIC_SEX', 'Zip Codes',\n",
      "       'Community Districts', 'Borough Boundaries', 'City Council Districts',\n",
      "       'Police Precincts'],\n",
      "      dtype='object')\n"
     ]
    }
   ],
   "source": [
    "# go to https://data.cityofnewyork.us/Public-Safety/NYPD-Complaint-Data-Historic/qgea-i56i/about_data for information about the columns\n",
    "print(len(nyc_complaint_df))\n",
    "print(nyc_complaint_df.columns)"
   ]
  },
  {
   "cell_type": "code",
   "execution_count": 19,
   "metadata": {},
   "outputs": [],
   "source": [
    "EPA_smart_location_df = pd.read_csv('data/EPA_SmartLocationDatabase_V3_Jan_2021_Final.csv')"
   ]
  },
  {
   "cell_type": "code",
   "execution_count": 20,
   "metadata": {},
   "outputs": [
    {
     "name": "stdout",
     "output_type": "stream",
     "text": [
      "220740\n"
     ]
    },
    {
     "data": {
      "text/plain": [
       "Index(['OBJECTID', 'GEOID10', 'GEOID20', 'STATEFP', 'COUNTYFP', 'TRACTCE',\n",
       "       'BLKGRPCE', 'CSA', 'CSA_Name', 'CBSA',\n",
       "       ...\n",
       "       'D5DRI', 'D5DE', 'D5DEI', 'D2A_Ranked', 'D2B_Ranked', 'D3B_Ranked',\n",
       "       'D4A_Ranked', 'NatWalkInd', 'Shape_Length', 'Shape_Area'],\n",
       "      dtype='object', length=117)"
      ]
     },
     "execution_count": 20,
     "metadata": {},
     "output_type": "execute_result"
    }
   ],
   "source": [
    "print(len(EPA_smart_location_df))\n",
    "EPA_smart_location_df.columns"
   ]
  },
  {
   "cell_type": "code",
   "execution_count": 21,
   "metadata": {},
   "outputs": [],
   "source": [
    "# TODO: find how to filter for NYC metro area, and also group by neighborhood and group in a way that matches with sentiment data\n",
    "# filter by state/county fips"
   ]
  },
  {
   "cell_type": "code",
   "execution_count": 22,
   "metadata": {},
   "outputs": [
    {
     "name": "stdout",
     "output_type": "stream",
     "text": [
      "   County Name      City Name Town Name Village Name   Municipality  \\\n",
      "6        Bronx          Bronx       NaN          NaN          Bronx   \n",
      "7        Kings       Brooklyn       NaN          NaN       Brooklyn   \n",
      "30    New York      Manhattan       NaN          NaN      Manhattan   \n",
      "49      Queens         Queens       NaN          NaN         Queens   \n",
      "58    Richmond  Staten Island       NaN          NaN  Staten Island   \n",
      "\n",
      "    County FIPS  \n",
      "6         36005  \n",
      "7         36047  \n",
      "30        36061  \n",
      "49        36081  \n",
      "58        36085  \n",
      "[5, 47, 61, 81, 85]\n"
     ]
    }
   ],
   "source": [
    "# extracting the county FIPS code for each of the nyc counties\n",
    "ny_county_df = pd.read_csv('data/NY_Municipalities_and_County_FIPS_codes_20240415.csv')\n",
    "nyc_counties = ['Bronx', 'Kings', 'New York', 'Queens', 'Richmond']\n",
    "# filter for nyc counties\n",
    "nyc_counties = ny_county_df[ny_county_df['County Name'].isin(nyc_counties)]\n",
    "print(nyc_counties.head())\n",
    "county_fips_lst = nyc_counties['County FIPS'].to_list()\n",
    "# remove state part from county fips code (keep last 3 numbers)\n",
    "county_fips_lst = [fips % 1000 for fips in county_fips_lst]\n",
    "print(county_fips_lst)"
   ]
  },
  {
   "cell_type": "code",
   "execution_count": 25,
   "metadata": {},
   "outputs": [
    {
     "name": "stdout",
     "output_type": "stream",
     "text": [
      "        OBJECTID       GEOID10       GEOID20  STATEFP  COUNTYFP  TRACTCE  \\\n",
      "148836    148837  3.608100e+11  3.608100e+11       36        81    25900   \n",
      "148837    148838  3.608100e+11  3.608100e+11       36        81    16600   \n",
      "148838    148839  3.608110e+11  3.608110e+11       36        81   122702   \n",
      "148839    148840  3.608100e+11  3.608100e+11       36        81    28300   \n",
      "148840    148841  3.608110e+11  3.608110e+11       36        81   148300   \n",
      "\n",
      "        BLKGRPCE    CSA                      CSA_Name     CBSA  ...     D5DRI  \\\n",
      "148836         2  408.0  New York-Newark, NY-NJ-CT-PA  35620.0  ...  0.506986   \n",
      "148837         2  408.0  New York-Newark, NY-NJ-CT-PA  35620.0  ...  0.029180   \n",
      "148838         1  408.0  New York-Newark, NY-NJ-CT-PA  35620.0  ...  0.154780   \n",
      "148839         5  408.0  New York-Newark, NY-NJ-CT-PA  35620.0  ...  0.535719   \n",
      "148840         4  408.0  New York-Newark, NY-NJ-CT-PA  35620.0  ...  0.082963   \n",
      "\n",
      "            D5DE     D5DEI  D2A_Ranked  D2B_Ranked  D3B_Ranked  D4A_Ranked  \\\n",
      "148836  0.000222  0.528185          19          15          17          18   \n",
      "148837  0.000061  0.144270           9           9          15          19   \n",
      "148838  0.000067  0.159039           1           1          10          18   \n",
      "148839  0.000238  0.567026           5          20           1          19   \n",
      "148840  0.000036  0.084785          14          12          19          14   \n",
      "\n",
      "        NatWalkInd  Shape_Length    Shape_Area  \n",
      "148836   17.333333   1016.744396   64619.12044  \n",
      "148837   14.333333   1485.032311   91377.23524  \n",
      "148838    9.666667   1110.284578   72542.55913  \n",
      "148839   10.833333   1096.360269   36881.79980  \n",
      "148840   15.333333   2652.063831  286388.75040  \n",
      "\n",
      "[5 rows x 117 columns] (6493, 117)\n"
     ]
    }
   ],
   "source": [
    "# Now filter EPA data for only NYC counties using county FIPS\n",
    "# first filter for NY state (36)\n",
    "EPA_NYC_df = EPA_smart_location_df[EPA_smart_location_df['STATEFP'] == 36]\n",
    "# then filter by 5 NYC counties\n",
    "EPA_NYC_df = EPA_NYC_df[EPA_NYC_df['COUNTYFP'].isin(county_fips_lst)]\n",
    "print(EPA_NYC_df.head(), EPA_NYC_df.shape)"
   ]
  },
  {
   "cell_type": "code",
   "execution_count": 27,
   "metadata": {},
   "outputs": [
    {
     "name": "stdout",
     "output_type": "stream",
     "text": [
      "5\n",
      "1335\n"
     ]
    }
   ],
   "source": [
    "print(EPA_NYC_df['COUNTYFP'].nunique())\n",
    "print(EPA_NYC_df['TRACTCE'].nunique())"
   ]
  },
  {
   "cell_type": "markdown",
   "metadata": {},
   "source": [
    "It appears that there's only 1335 unique census tracks in this data for NYC after filtering, even though there's 2327 IRL allegedly - THIS IS FALSE - We will show below, but 'TRACTCE' is only unique within each borough"
   ]
  },
  {
   "cell_type": "code",
   "execution_count": 28,
   "metadata": {},
   "outputs": [],
   "source": [
    "EPA_NYC_df.to_csv('github_data/EPA_NYC_out.csv', index=False)"
   ]
  },
  {
   "cell_type": "code",
   "execution_count": 29,
   "metadata": {},
   "outputs": [],
   "source": [
    "NYC_tracts_df = pd.read_csv('data/2020_Census_Tracts_-_Tabular_20240415.csv')"
   ]
  },
  {
   "cell_type": "code",
   "execution_count": 35,
   "metadata": {},
   "outputs": [
    {
     "name": "stdout",
     "output_type": "stream",
     "text": [
      "1530\n",
      "2325\n",
      "2325\n"
     ]
    }
   ],
   "source": [
    "print(NYC_tracts_df['CT2020'].nunique())\n",
    "print(NYC_tracts_df['BoroCT2020'].nunique())\n",
    "print(len(NYC_tracts_df))"
   ]
  },
  {
   "cell_type": "code",
   "execution_count": 39,
   "metadata": {},
   "outputs": [
    {
     "name": "stdout",
     "output_type": "stream",
     "text": [
      "Number of unique combinations: 4474\n",
      "13\n",
      "13\n",
      "Number of unique combinations: 2167\n"
     ]
    }
   ],
   "source": [
    "unique_groups = EPA_NYC_df.groupby(['TRACTCE', 'BLKGRPCE']).ngroups\n",
    "print(\"Number of unique combinations:\", unique_groups)\n",
    "print(EPA_NYC_df['GEOID10'].nunique())\n",
    "print(EPA_NYC_df['GEOID20'].nunique())\n",
    "unique_groups = EPA_NYC_df.groupby(['TRACTCE', 'COUNTYFP']).ngroups\n",
    "print(\"Number of unique combinations:\", unique_groups)"
   ]
  },
  {
   "cell_type": "code",
   "execution_count": 33,
   "metadata": {},
   "outputs": [
    {
     "name": "stdout",
     "output_type": "stream",
     "text": [
      "148836     25900\n",
      "148837     16600\n",
      "148838    122702\n",
      "148839     28300\n",
      "148840    148300\n",
      "           ...  \n",
      "164267     22401\n",
      "164273     38900\n",
      "164274      7100\n",
      "164275     21100\n",
      "164276     19700\n",
      "Name: TRACTCE, Length: 6493, dtype: int64\n",
      "0       1000100\n",
      "1       1000201\n",
      "2       1000600\n",
      "3       1001401\n",
      "4       1001402\n",
      "         ...   \n",
      "2320    2033400\n",
      "2321    5022602\n",
      "2322    5024800\n",
      "2323    4003400\n",
      "2324    3118600\n",
      "Name: BoroCT2020, Length: 2325, dtype: int64\n"
     ]
    }
   ],
   "source": [
    "print(EPA_NYC_df['TRACTCE'])\n",
    "print(NYC_tracts_df['BoroCT2020'])"
   ]
  }
 ],
 "metadata": {
  "kernelspec": {
   "display_name": "base",
   "language": "python",
   "name": "python3"
  },
  "language_info": {
   "codemirror_mode": {
    "name": "ipython",
    "version": 3
   },
   "file_extension": ".py",
   "mimetype": "text/x-python",
   "name": "python",
   "nbconvert_exporter": "python",
   "pygments_lexer": "ipython3",
   "version": "3.11.8"
  }
 },
 "nbformat": 4,
 "nbformat_minor": 2
}
