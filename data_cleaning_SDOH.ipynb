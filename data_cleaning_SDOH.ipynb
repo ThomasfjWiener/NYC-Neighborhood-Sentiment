{
 "cells": [
  {
   "cell_type": "code",
   "execution_count": 1,
   "metadata": {},
   "outputs": [],
   "source": [
    "import pandas as pd"
   ]
  },
  {
   "cell_type": "code",
   "execution_count": 2,
   "metadata": {},
   "outputs": [],
   "source": [
    "SDOH_df = pd.read_csv('data/SDOH_Measures_for_Census_Tract__ACS_2017-2021_20240511.csv')"
   ]
  },
  {
   "cell_type": "code",
   "execution_count": 3,
   "metadata": {},
   "outputs": [
    {
     "name": "stdout",
     "output_type": "stream",
     "text": [
      "751509\n"
     ]
    }
   ],
   "source": [
    "print(len(SDOH_df))\n"
   ]
  },
  {
   "cell_type": "markdown",
   "metadata": {},
   "source": [
    "Need to filter and group by census tract here. What's weird is that each row is a different measurement"
   ]
  },
  {
   "cell_type": "code",
   "execution_count": 5,
   "metadata": {},
   "outputs": [
    {
     "data": {
      "text/html": [
       "<div>\n",
       "<style scoped>\n",
       "    .dataframe tbody tr th:only-of-type {\n",
       "        vertical-align: middle;\n",
       "    }\n",
       "\n",
       "    .dataframe tbody tr th {\n",
       "        vertical-align: top;\n",
       "    }\n",
       "\n",
       "    .dataframe thead th {\n",
       "        text-align: right;\n",
       "    }\n",
       "</style>\n",
       "<table border=\"1\" class=\"dataframe\">\n",
       "  <thead>\n",
       "    <tr style=\"text-align: right;\">\n",
       "      <th></th>\n",
       "      <th>StateAbbr</th>\n",
       "    </tr>\n",
       "  </thead>\n",
       "  <tbody>\n",
       "    <tr>\n",
       "      <th>0</th>\n",
       "      <td>AL</td>\n",
       "    </tr>\n",
       "    <tr>\n",
       "      <th>1</th>\n",
       "      <td>AL</td>\n",
       "    </tr>\n",
       "    <tr>\n",
       "      <th>2</th>\n",
       "      <td>AL</td>\n",
       "    </tr>\n",
       "    <tr>\n",
       "      <th>3</th>\n",
       "      <td>AL</td>\n",
       "    </tr>\n",
       "    <tr>\n",
       "      <th>4</th>\n",
       "      <td>AL</td>\n",
       "    </tr>\n",
       "  </tbody>\n",
       "</table>\n",
       "</div>"
      ],
      "text/plain": [
       "  StateAbbr\n",
       "0        AL\n",
       "1        AL\n",
       "2        AL\n",
       "3        AL\n",
       "4        AL"
      ]
     },
     "execution_count": 5,
     "metadata": {},
     "output_type": "execute_result"
    }
   ],
   "source": [
    "SDOH_df[['StateAbbr']].head()"
   ]
  },
  {
   "cell_type": "code",
   "execution_count": 12,
   "metadata": {},
   "outputs": [
    {
     "name": "stdout",
     "output_type": "stream",
     "text": [
      "['Cayuga County' 'Onondaga County' 'Albany County' 'Bronx County'\n",
      " 'Allegany County' 'Erie County' 'Kings County' 'Greene County'\n",
      " 'Madison County' 'Monroe County' 'Livingston County' 'Lewis County'\n",
      " 'Dutchess County' 'Nassau County' 'Franklin County' 'Broome County'\n",
      " 'Jefferson County' 'Chemung County' 'Clinton County' 'Cortland County'\n",
      " 'Columbia County' 'Fulton County' 'Montgomery County' 'Chenango County'\n",
      " 'Genesee County' 'Essex County' 'Cattaraugus County' 'Hamilton County'\n",
      " 'Chautauqua County' 'Delaware County' 'Herkimer County' 'Saratoga County'\n",
      " 'Queens County' 'Rockland County' 'Otsego County' 'Oneida County'\n",
      " 'New York County' 'Richmond County' 'Orange County' 'Suffolk County'\n",
      " 'Orleans County' 'Oswego County' 'Seneca County' 'Putnam County'\n",
      " 'Rensselaer County' 'Schenectady County' 'Niagara County'\n",
      " 'St. Lawrence County' 'Steuben County' 'Ontario County'\n",
      " 'Schoharie County' 'Schuyler County' 'Washington County' 'Tioga County'\n",
      " 'Sullivan County' 'Warren County' 'Westchester County' 'Ulster County'\n",
      " 'Wayne County' 'Tompkins County' 'Wyoming County' 'Yates County']\n",
      "['Bronx County' 'Kings County' 'Queens County' 'New York County'\n",
      " 'Richmond County']\n"
     ]
    }
   ],
   "source": [
    "## filter to NY state and the 5 NYC counties ##\n",
    "nyc_counties = ['Bronx County', 'Kings County', 'New York County', 'Queens County', 'Richmond County']\n",
    "\n",
    "SDOH_NYC_df = SDOH_df[SDOH_df['StateAbbr'] == 'NY']\n",
    "# print(SDOH_NYC_df[['CountyName']].head())\n",
    "# print(SDOH_NYC_df[['CountyFIPS']].head())\n",
    "# unique_values = SDOH_NYC_df['CountyName'].unique()\n",
    "# print(unique_values)\n",
    "\n",
    "SDOH_NYC_df = SDOH_NYC_df[SDOH_NYC_df['CountyName'].isin(nyc_counties)]\n",
    "unique_values = SDOH_NYC_df['CountyName'].unique()\n",
    "print(unique_values)"
   ]
  },
  {
   "cell_type": "code",
   "execution_count": 14,
   "metadata": {},
   "outputs": [
    {
     "name": "stdout",
     "output_type": "stream",
     "text": [
      "20043\n",
      "['Crowding among housing units'\n",
      " 'Persons of racial or ethnic minority status'\n",
      " 'Persons aged 65 years or older'\n",
      " 'Unemployment among people 16 years and older in the labor force'\n",
      " 'No high school diploma among adults aged 25 years or older'\n",
      " 'Persons living below 150% of the poverty level'\n",
      " 'No broadband internet subscription among households'\n",
      " 'Single-parent households' 'Housing cost burden among households']\n"
     ]
    }
   ],
   "source": [
    "print(len(SDOH_NYC_df))\n",
    "unique_measurements = SDOH_NYC_df['Measure'].unique()\n",
    "print(unique_measurements)"
   ]
  },
  {
   "cell_type": "markdown",
   "metadata": {},
   "source": [
    "Now, need to make each unique measurement a column instead of its own row"
   ]
  },
  {
   "cell_type": "code",
   "execution_count": 17,
   "metadata": {},
   "outputs": [
    {
     "name": "stdout",
     "output_type": "stream",
     "text": [
      "['2017-2021']\n"
     ]
    }
   ],
   "source": [
    "unique_years = SDOH_NYC_df['Year'].unique()\n",
    "print(unique_years)"
   ]
  },
  {
   "cell_type": "code",
   "execution_count": 18,
   "metadata": {},
   "outputs": [],
   "source": [
    "# Define a custom function to select the first value\n",
    "def first_value(x):\n",
    "    return x.iloc[0]\n",
    "\n",
    "# Pivot the DataFrame using the custom aggregation function\n",
    "pivot_df = SDOH_NYC_df.pivot_table(index='LocationName', columns='Measure', aggfunc=first_value, fill_value=None)\n"
   ]
  },
  {
   "cell_type": "code",
   "execution_count": null,
   "metadata": {},
   "outputs": [],
   "source": [
    "print(len(pivot_df))"
   ]
  }
 ],
 "metadata": {
  "kernelspec": {
   "display_name": "base",
   "language": "python",
   "name": "python3"
  },
  "language_info": {
   "codemirror_mode": {
    "name": "ipython",
    "version": 3
   },
   "file_extension": ".py",
   "mimetype": "text/x-python",
   "name": "python",
   "nbconvert_exporter": "python",
   "pygments_lexer": "ipython3",
   "version": "3.11.8"
  }
 },
 "nbformat": 4,
 "nbformat_minor": 2
}
