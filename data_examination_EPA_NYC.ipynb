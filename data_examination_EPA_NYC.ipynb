{
 "cells": [
  {
   "cell_type": "code",
   "execution_count": 2,
   "metadata": {},
   "outputs": [],
   "source": [
    "import pandas as pd"
   ]
  },
  {
   "cell_type": "code",
   "execution_count": 3,
   "metadata": {},
   "outputs": [
    {
     "data": {
      "text/html": [
       "<div>\n",
       "<style scoped>\n",
       "    .dataframe tbody tr th:only-of-type {\n",
       "        vertical-align: middle;\n",
       "    }\n",
       "\n",
       "    .dataframe tbody tr th {\n",
       "        vertical-align: top;\n",
       "    }\n",
       "\n",
       "    .dataframe thead th {\n",
       "        text-align: right;\n",
       "    }\n",
       "</style>\n",
       "<table border=\"1\" class=\"dataframe\">\n",
       "  <thead>\n",
       "    <tr style=\"text-align: right;\">\n",
       "      <th></th>\n",
       "      <th>OBJECTID</th>\n",
       "      <th>GEOID10</th>\n",
       "      <th>GEOID20</th>\n",
       "      <th>STATEFP</th>\n",
       "      <th>COUNTYFP</th>\n",
       "      <th>TRACTCE</th>\n",
       "      <th>BLKGRPCE</th>\n",
       "      <th>CSA</th>\n",
       "      <th>CSA_Name</th>\n",
       "      <th>CBSA</th>\n",
       "      <th>...</th>\n",
       "      <th>D5DRI</th>\n",
       "      <th>D5DE</th>\n",
       "      <th>D5DEI</th>\n",
       "      <th>D2A_Ranked</th>\n",
       "      <th>D2B_Ranked</th>\n",
       "      <th>D3B_Ranked</th>\n",
       "      <th>D4A_Ranked</th>\n",
       "      <th>NatWalkInd</th>\n",
       "      <th>Shape_Length</th>\n",
       "      <th>Shape_Area</th>\n",
       "    </tr>\n",
       "  </thead>\n",
       "  <tbody>\n",
       "    <tr>\n",
       "      <th>0</th>\n",
       "      <td>148837</td>\n",
       "      <td>3.608100e+11</td>\n",
       "      <td>3.608100e+11</td>\n",
       "      <td>36</td>\n",
       "      <td>81</td>\n",
       "      <td>25900</td>\n",
       "      <td>2</td>\n",
       "      <td>408.0</td>\n",
       "      <td>New York-Newark, NY-NJ-CT-PA</td>\n",
       "      <td>35620.0</td>\n",
       "      <td>...</td>\n",
       "      <td>0.506986</td>\n",
       "      <td>0.000222</td>\n",
       "      <td>0.528185</td>\n",
       "      <td>19</td>\n",
       "      <td>15</td>\n",
       "      <td>17</td>\n",
       "      <td>18</td>\n",
       "      <td>17.333333</td>\n",
       "      <td>1016.744396</td>\n",
       "      <td>64619.12044</td>\n",
       "    </tr>\n",
       "    <tr>\n",
       "      <th>1</th>\n",
       "      <td>148838</td>\n",
       "      <td>3.608100e+11</td>\n",
       "      <td>3.608100e+11</td>\n",
       "      <td>36</td>\n",
       "      <td>81</td>\n",
       "      <td>16600</td>\n",
       "      <td>2</td>\n",
       "      <td>408.0</td>\n",
       "      <td>New York-Newark, NY-NJ-CT-PA</td>\n",
       "      <td>35620.0</td>\n",
       "      <td>...</td>\n",
       "      <td>0.029180</td>\n",
       "      <td>0.000061</td>\n",
       "      <td>0.144270</td>\n",
       "      <td>9</td>\n",
       "      <td>9</td>\n",
       "      <td>15</td>\n",
       "      <td>19</td>\n",
       "      <td>14.333333</td>\n",
       "      <td>1485.032311</td>\n",
       "      <td>91377.23524</td>\n",
       "    </tr>\n",
       "    <tr>\n",
       "      <th>2</th>\n",
       "      <td>148839</td>\n",
       "      <td>3.608110e+11</td>\n",
       "      <td>3.608110e+11</td>\n",
       "      <td>36</td>\n",
       "      <td>81</td>\n",
       "      <td>122702</td>\n",
       "      <td>1</td>\n",
       "      <td>408.0</td>\n",
       "      <td>New York-Newark, NY-NJ-CT-PA</td>\n",
       "      <td>35620.0</td>\n",
       "      <td>...</td>\n",
       "      <td>0.154780</td>\n",
       "      <td>0.000067</td>\n",
       "      <td>0.159039</td>\n",
       "      <td>1</td>\n",
       "      <td>1</td>\n",
       "      <td>10</td>\n",
       "      <td>18</td>\n",
       "      <td>9.666667</td>\n",
       "      <td>1110.284578</td>\n",
       "      <td>72542.55913</td>\n",
       "    </tr>\n",
       "    <tr>\n",
       "      <th>3</th>\n",
       "      <td>148840</td>\n",
       "      <td>3.608100e+11</td>\n",
       "      <td>3.608100e+11</td>\n",
       "      <td>36</td>\n",
       "      <td>81</td>\n",
       "      <td>28300</td>\n",
       "      <td>5</td>\n",
       "      <td>408.0</td>\n",
       "      <td>New York-Newark, NY-NJ-CT-PA</td>\n",
       "      <td>35620.0</td>\n",
       "      <td>...</td>\n",
       "      <td>0.535719</td>\n",
       "      <td>0.000238</td>\n",
       "      <td>0.567026</td>\n",
       "      <td>5</td>\n",
       "      <td>20</td>\n",
       "      <td>1</td>\n",
       "      <td>19</td>\n",
       "      <td>10.833333</td>\n",
       "      <td>1096.360269</td>\n",
       "      <td>36881.79980</td>\n",
       "    </tr>\n",
       "    <tr>\n",
       "      <th>4</th>\n",
       "      <td>148841</td>\n",
       "      <td>3.608110e+11</td>\n",
       "      <td>3.608110e+11</td>\n",
       "      <td>36</td>\n",
       "      <td>81</td>\n",
       "      <td>148300</td>\n",
       "      <td>4</td>\n",
       "      <td>408.0</td>\n",
       "      <td>New York-Newark, NY-NJ-CT-PA</td>\n",
       "      <td>35620.0</td>\n",
       "      <td>...</td>\n",
       "      <td>0.082963</td>\n",
       "      <td>0.000036</td>\n",
       "      <td>0.084785</td>\n",
       "      <td>14</td>\n",
       "      <td>12</td>\n",
       "      <td>19</td>\n",
       "      <td>14</td>\n",
       "      <td>15.333333</td>\n",
       "      <td>2652.063831</td>\n",
       "      <td>286388.75040</td>\n",
       "    </tr>\n",
       "  </tbody>\n",
       "</table>\n",
       "<p>5 rows × 117 columns</p>\n",
       "</div>"
      ],
      "text/plain": [
       "   OBJECTID       GEOID10       GEOID20  STATEFP  COUNTYFP  TRACTCE  BLKGRPCE  \\\n",
       "0    148837  3.608100e+11  3.608100e+11       36        81    25900         2   \n",
       "1    148838  3.608100e+11  3.608100e+11       36        81    16600         2   \n",
       "2    148839  3.608110e+11  3.608110e+11       36        81   122702         1   \n",
       "3    148840  3.608100e+11  3.608100e+11       36        81    28300         5   \n",
       "4    148841  3.608110e+11  3.608110e+11       36        81   148300         4   \n",
       "\n",
       "     CSA                      CSA_Name     CBSA  ...     D5DRI      D5DE  \\\n",
       "0  408.0  New York-Newark, NY-NJ-CT-PA  35620.0  ...  0.506986  0.000222   \n",
       "1  408.0  New York-Newark, NY-NJ-CT-PA  35620.0  ...  0.029180  0.000061   \n",
       "2  408.0  New York-Newark, NY-NJ-CT-PA  35620.0  ...  0.154780  0.000067   \n",
       "3  408.0  New York-Newark, NY-NJ-CT-PA  35620.0  ...  0.535719  0.000238   \n",
       "4  408.0  New York-Newark, NY-NJ-CT-PA  35620.0  ...  0.082963  0.000036   \n",
       "\n",
       "      D5DEI  D2A_Ranked  D2B_Ranked  D3B_Ranked  D4A_Ranked  NatWalkInd  \\\n",
       "0  0.528185          19          15          17          18   17.333333   \n",
       "1  0.144270           9           9          15          19   14.333333   \n",
       "2  0.159039           1           1          10          18    9.666667   \n",
       "3  0.567026           5          20           1          19   10.833333   \n",
       "4  0.084785          14          12          19          14   15.333333   \n",
       "\n",
       "   Shape_Length    Shape_Area  \n",
       "0   1016.744396   64619.12044  \n",
       "1   1485.032311   91377.23524  \n",
       "2   1110.284578   72542.55913  \n",
       "3   1096.360269   36881.79980  \n",
       "4   2652.063831  286388.75040  \n",
       "\n",
       "[5 rows x 117 columns]"
      ]
     },
     "execution_count": 3,
     "metadata": {},
     "output_type": "execute_result"
    }
   ],
   "source": [
    "# Reading in filtered EPA data to NYC specifically \n",
    "EPA_NYC_df = pd.read_csv('github_data/EPA_NYC_out.csv')\n",
    "EPA_NYC_df.head()"
   ]
  },
  {
   "cell_type": "markdown",
   "metadata": {},
   "source": [
    "Below, we have 2167 census tracts for NYC in the dataset (according to Google there were 2168 in 2019, so this tracks). Note that this data is from 2019, before the census updates in 2020 (and pre-covid which is what Prof. recommended)"
   ]
  },
  {
   "cell_type": "code",
   "execution_count": 4,
   "metadata": {},
   "outputs": [
    {
     "data": {
      "text/html": [
       "<div>\n",
       "<style scoped>\n",
       "    .dataframe tbody tr th:only-of-type {\n",
       "        vertical-align: middle;\n",
       "    }\n",
       "\n",
       "    .dataframe tbody tr th {\n",
       "        vertical-align: top;\n",
       "    }\n",
       "\n",
       "    .dataframe thead th {\n",
       "        text-align: right;\n",
       "    }\n",
       "</style>\n",
       "<table border=\"1\" class=\"dataframe\">\n",
       "  <thead>\n",
       "    <tr style=\"text-align: right;\">\n",
       "      <th></th>\n",
       "      <th>TRACTCE</th>\n",
       "      <th>COUNTYFP</th>\n",
       "    </tr>\n",
       "  </thead>\n",
       "  <tbody>\n",
       "    <tr>\n",
       "      <th>0</th>\n",
       "      <td>25900</td>\n",
       "      <td>81</td>\n",
       "    </tr>\n",
       "    <tr>\n",
       "      <th>1</th>\n",
       "      <td>16600</td>\n",
       "      <td>81</td>\n",
       "    </tr>\n",
       "    <tr>\n",
       "      <th>2</th>\n",
       "      <td>122702</td>\n",
       "      <td>81</td>\n",
       "    </tr>\n",
       "    <tr>\n",
       "      <th>3</th>\n",
       "      <td>28300</td>\n",
       "      <td>81</td>\n",
       "    </tr>\n",
       "    <tr>\n",
       "      <th>4</th>\n",
       "      <td>148300</td>\n",
       "      <td>81</td>\n",
       "    </tr>\n",
       "  </tbody>\n",
       "</table>\n",
       "</div>"
      ],
      "text/plain": [
       "   TRACTCE  COUNTYFP\n",
       "0    25900        81\n",
       "1    16600        81\n",
       "2   122702        81\n",
       "3    28300        81\n",
       "4   148300        81"
      ]
     },
     "execution_count": 4,
     "metadata": {},
     "output_type": "execute_result"
    }
   ],
   "source": [
    "EPA_NYC_df[['TRACTCE', 'COUNTYFP']].head()"
   ]
  },
  {
   "cell_type": "markdown",
   "metadata": {},
   "source": [
    "NOTE: The census tract of a row is essentially the combination of TRACTCE and COUNTYFP"
   ]
  },
  {
   "cell_type": "code",
   "execution_count": 31,
   "metadata": {},
   "outputs": [
    {
     "name": "stdout",
     "output_type": "stream",
     "text": [
      "Number of unique tracts: 2167\n",
      "Number of unique block groups: 6493\n"
     ]
    }
   ],
   "source": [
    "unique_groups = EPA_NYC_df.groupby(['TRACTCE', 'COUNTYFP']).ngroups\n",
    "print(\"Number of unique tracts:\", unique_groups)\n",
    "unique_block_groups = EPA_NYC_df.groupby(['TRACTCE', 'COUNTYFP', 'BLKGRPCE']).ngroups\n",
    "print(\"Number of unique block groups:\", unique_block_groups)"
   ]
  },
  {
   "cell_type": "markdown",
   "metadata": {},
   "source": [
    "## Next Step: Data visualizations and statistics\n",
    "- 1: pick features we wanna examine (mainly from EPA dataset) - DONE\n",
    "- 2: group by the 2167 census tracts (or not, can currently keep as 2018 census block group) - Probably unnecessary\n",
    "    - figure out how to merge certain data when grouping (mean, median, max)\n",
    "- 3: regression, clustering, pca, correlations, etc. - See other notebooks for this"
   ]
  },
  {
   "cell_type": "code",
   "execution_count": 6,
   "metadata": {},
   "outputs": [],
   "source": [
    "# # group by census tract, figure out how to aggregate Variables of Interest\n",
    "# res = EPA_NYC_df.groupby(['TRACTCE', 'COUNTYFP'])"
   ]
  },
  {
   "cell_type": "code",
   "execution_count": 8,
   "metadata": {},
   "outputs": [],
   "source": [
    "# cleaning some variables (turning totals into ratios)\n",
    "EPA_NYC_df['Prop_over3kmonth'] = EPA_NYC_df['R_HiWageWk'] / EPA_NYC_df['TotPop']\n",
    "EPA_NYC_df['Prop_land_unprotected'] = EPA_NYC_df['Ac_Unpr'] / EPA_NYC_df['Ac_Land']\n"
   ]
  },
  {
   "cell_type": "code",
   "execution_count": 10,
   "metadata": {},
   "outputs": [
    {
     "name": "stdout",
     "output_type": "stream",
     "text": [
      "count     6493.000000\n",
      "mean       672.690744\n",
      "std       3314.438818\n",
      "min          0.000000\n",
      "25%         47.000000\n",
      "50%        141.000000\n",
      "75%        358.000000\n",
      "max      73521.000000\n",
      "Name: TotEmp, dtype: float64\n"
     ]
    }
   ],
   "source": [
    "print(EPA_NYC_df['TotEmp'].describe())\n"
   ]
  },
  {
   "cell_type": "code",
   "execution_count": 24,
   "metadata": {},
   "outputs": [
    {
     "name": "stdout",
     "output_type": "stream",
     "text": [
      "'TotPop' contains NaN values: False\n",
      "'Ac_Land' contains NaN values: False\n",
      "'R_HiWageWk' contains NaN values: False\n",
      "'Ac_Unpr' contains NaN values: False\n",
      "TotPop     271\n",
      "Ac_Land    206\n",
      "dtype: int64\n"
     ]
    }
   ],
   "source": [
    "# List of columns to check for NaN values\n",
    "columns_to_check = ['TotPop', 'Ac_Land', 'R_HiWageWk', 'Ac_Unpr']\n",
    "\n",
    "# Check each column and print whether it contains NaNs\n",
    "for column in columns_to_check:\n",
    "    contains_nan = EPA_NYC_df[column].isna().any()\n",
    "    print(f\"'{column}' contains NaN values: {contains_nan}\")\n",
    "\n",
    "# Count zeros in specific columns\n",
    "specific_columns = ['TotPop', 'Ac_Land']\n",
    "zeros_in_specific_columns = EPA_NYC_df[specific_columns].eq(0).sum()\n",
    "print(zeros_in_specific_columns)"
   ]
  },
  {
   "cell_type": "code",
   "execution_count": 27,
   "metadata": {},
   "outputs": [
    {
     "name": "stdout",
     "output_type": "stream",
     "text": [
      "271\n"
     ]
    }
   ],
   "source": [
    "# dropping CBGs with either no population or no land\n",
    "mask = (EPA_NYC_df[specific_columns] != 0).all(axis=1)\n",
    "print(len(EPA_NYC_df) - sum(mask))\n",
    "pre_filtered_df = EPA_NYC_df.loc[mask]\n"
   ]
  },
  {
   "cell_type": "code",
   "execution_count": 32,
   "metadata": {},
   "outputs": [],
   "source": [
    "# keeping only variables of interest\n",
    "vars_of_interest = ['TRACTCE', 'COUNTYFP', 'BLKGRPCE',\n",
    "                    'NatWalkInd', 'Prop_land_unprotected',\n",
    "                    'D4B025', 'D4A', 'D2B_E5MIXA', \n",
    "                    'D2A_JPHH', 'D1D', 'D1C5_ENT', \n",
    "                    'D1B', 'E_PctLowWage', \n",
    "                    'Prop_over3kmonth', 'R_PCTLOWWAGE',\n",
    "                    'P_WrkAge']\n",
    "# vars_of_interest = [v.upper() for v in vars_of_interest]\n",
    "# for v in vars_of_interest:\n",
    "#     print(EPA_NYC_df[v].head())\n",
    "filtered_EPA_df = pre_filtered_df[vars_of_interest]"
   ]
  },
  {
   "cell_type": "code",
   "execution_count": 33,
   "metadata": {},
   "outputs": [
    {
     "name": "stdout",
     "output_type": "stream",
     "text": [
      "0\n",
      "0\n",
      "Columns with any NaN values: []\n"
     ]
    }
   ],
   "source": [
    "nan_rows_count = filtered_EPA_df.isna().any(axis=1).sum()\n",
    "print(nan_rows_count)\n",
    "nan_columns_count = filtered_EPA_df.isna().any(axis=0).sum()\n",
    "print(nan_columns_count)\n",
    "nan_columns = filtered_EPA_df.columns[filtered_EPA_df.isna().any()].tolist()\n",
    "print(f\"Columns with any NaN values: {nan_columns}\")\n"
   ]
  },
  {
   "cell_type": "markdown",
   "metadata": {},
   "source": [
    "Now, normalize the data and perform clustering (maybe PCA beforehand)"
   ]
  },
  {
   "cell_type": "code",
   "execution_count": 36,
   "metadata": {},
   "outputs": [
    {
     "name": "stdout",
     "output_type": "stream",
     "text": [
      "6222\n",
      "      TRACTCE  COUNTYFP  BLKGRPCE  NatWalkInd  Prop_land_unprotected  \\\n",
      "0       25900        81         2   17.333333               1.000000   \n",
      "1       16600        81         2   14.333333               1.000000   \n",
      "2      122702        81         1    9.666667               1.000000   \n",
      "3       28300        81         5   10.833333               1.000000   \n",
      "4      148300        81         4   15.333333               0.973361   \n",
      "...       ...       ...       ...         ...                    ...   \n",
      "6488    22401         5         1   13.166667               0.920363   \n",
      "6489    38900         5         1   13.666667               1.000000   \n",
      "6490     7100         5         2   16.833333               1.000000   \n",
      "6491    21100         5         3   12.666667               1.000000   \n",
      "6492    19700         5         1   15.000000               1.000000   \n",
      "\n",
      "        D4B025     D4A  D2B_E5MIXA  D2A_JPHH         D1D  D1C5_ENT  \\\n",
      "0     1.000000  242.74    0.754524  2.256790   85.297717  3.632355   \n",
      "1     0.000000  160.93    0.650879  0.317673   26.085890  0.132865   \n",
      "2     0.000000  301.75    0.000000  0.000000   53.666938  0.000000   \n",
      "3     0.809471  178.37    0.975917  0.143099  156.255228  4.279462   \n",
      "4     0.027186  679.95    0.477792  0.465046    6.997494  0.000000   \n",
      "...        ...     ...         ...       ...         ...       ...   \n",
      "6488  0.920365  189.10    0.467234  0.082192   63.059250  0.000000   \n",
      "6489  0.000000  195.80    0.355300  0.080119   33.647621  0.000000   \n",
      "6490  0.592555  387.58    0.682560  1.944200   38.524576  2.613138   \n",
      "6491  0.122501  142.16    0.142849  0.243070   57.086908  0.000000   \n",
      "6492  1.000000  210.56    0.819048  0.061807   93.196290  1.251890   \n",
      "\n",
      "             D1B  E_PctLowWage  Prop_over3kmonth  R_PCTLOWWAGE  P_WrkAge  \n",
      "0      80.037065      0.284464          0.194053      0.229032     0.581  \n",
      "1      69.444270      0.267606          0.150510      0.204188     0.810  \n",
      "2     131.824297      0.000000          0.109606      0.223140     0.470  \n",
      "3     286.833683      0.366864          0.205815      0.217509     0.753  \n",
      "4      12.819061      0.124183          0.164213      0.184426     0.528  \n",
      "...          ...           ...               ...           ...       ...  \n",
      "6488  102.178197      0.305556          0.332126      0.189046     0.693  \n",
      "6489  101.026773      0.185185          0.121262      0.287850     0.687  \n",
      "6490   34.335869      0.342900          0.144936      0.219269     0.584  \n",
      "6491  109.480429      0.298246          0.134733      0.242647     0.545  \n",
      "6492  288.769399      0.307692          0.111753      0.277066     0.641  \n",
      "\n",
      "[6222 rows x 16 columns]\n"
     ]
    }
   ],
   "source": [
    "print(len(filtered_EPA_df))\n",
    "print(filtered_EPA_df)"
   ]
  },
  {
   "cell_type": "code",
   "execution_count": 39,
   "metadata": {},
   "outputs": [],
   "source": [
    "filtered_EPA_df.to_csv('github_data/EPA_df_for_analysis.csv', index=False)"
   ]
  }
 ],
 "metadata": {
  "kernelspec": {
   "display_name": "base",
   "language": "python",
   "name": "python3"
  },
  "language_info": {
   "codemirror_mode": {
    "name": "ipython",
    "version": 3
   },
   "file_extension": ".py",
   "mimetype": "text/x-python",
   "name": "python",
   "nbconvert_exporter": "python",
   "pygments_lexer": "ipython3",
   "version": "3.11.8"
  }
 },
 "nbformat": 4,
 "nbformat_minor": 2
}
