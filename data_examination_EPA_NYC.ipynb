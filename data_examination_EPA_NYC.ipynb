{
 "cells": [
  {
   "cell_type": "code",
   "execution_count": 1,
   "metadata": {},
   "outputs": [],
   "source": [
    "import pandas as pd"
   ]
  },
  {
   "cell_type": "code",
   "execution_count": 6,
   "metadata": {},
   "outputs": [
    {
     "data": {
      "text/html": [
       "<div>\n",
       "<style scoped>\n",
       "    .dataframe tbody tr th:only-of-type {\n",
       "        vertical-align: middle;\n",
       "    }\n",
       "\n",
       "    .dataframe tbody tr th {\n",
       "        vertical-align: top;\n",
       "    }\n",
       "\n",
       "    .dataframe thead th {\n",
       "        text-align: right;\n",
       "    }\n",
       "</style>\n",
       "<table border=\"1\" class=\"dataframe\">\n",
       "  <thead>\n",
       "    <tr style=\"text-align: right;\">\n",
       "      <th></th>\n",
       "      <th>OBJECTID</th>\n",
       "      <th>GEOID10</th>\n",
       "      <th>GEOID20</th>\n",
       "      <th>STATEFP</th>\n",
       "      <th>COUNTYFP</th>\n",
       "      <th>TRACTCE</th>\n",
       "      <th>BLKGRPCE</th>\n",
       "      <th>CSA</th>\n",
       "      <th>CSA_Name</th>\n",
       "      <th>CBSA</th>\n",
       "      <th>...</th>\n",
       "      <th>D5DRI</th>\n",
       "      <th>D5DE</th>\n",
       "      <th>D5DEI</th>\n",
       "      <th>D2A_Ranked</th>\n",
       "      <th>D2B_Ranked</th>\n",
       "      <th>D3B_Ranked</th>\n",
       "      <th>D4A_Ranked</th>\n",
       "      <th>NatWalkInd</th>\n",
       "      <th>Shape_Length</th>\n",
       "      <th>Shape_Area</th>\n",
       "    </tr>\n",
       "  </thead>\n",
       "  <tbody>\n",
       "    <tr>\n",
       "      <th>0</th>\n",
       "      <td>148837</td>\n",
       "      <td>3.608100e+11</td>\n",
       "      <td>3.608100e+11</td>\n",
       "      <td>36</td>\n",
       "      <td>81</td>\n",
       "      <td>25900</td>\n",
       "      <td>2</td>\n",
       "      <td>408.0</td>\n",
       "      <td>New York-Newark, NY-NJ-CT-PA</td>\n",
       "      <td>35620.0</td>\n",
       "      <td>...</td>\n",
       "      <td>0.506986</td>\n",
       "      <td>0.000222</td>\n",
       "      <td>0.528185</td>\n",
       "      <td>19</td>\n",
       "      <td>15</td>\n",
       "      <td>17</td>\n",
       "      <td>18</td>\n",
       "      <td>17.333333</td>\n",
       "      <td>1016.744396</td>\n",
       "      <td>64619.12044</td>\n",
       "    </tr>\n",
       "    <tr>\n",
       "      <th>1</th>\n",
       "      <td>148838</td>\n",
       "      <td>3.608100e+11</td>\n",
       "      <td>3.608100e+11</td>\n",
       "      <td>36</td>\n",
       "      <td>81</td>\n",
       "      <td>16600</td>\n",
       "      <td>2</td>\n",
       "      <td>408.0</td>\n",
       "      <td>New York-Newark, NY-NJ-CT-PA</td>\n",
       "      <td>35620.0</td>\n",
       "      <td>...</td>\n",
       "      <td>0.029180</td>\n",
       "      <td>0.000061</td>\n",
       "      <td>0.144270</td>\n",
       "      <td>9</td>\n",
       "      <td>9</td>\n",
       "      <td>15</td>\n",
       "      <td>19</td>\n",
       "      <td>14.333333</td>\n",
       "      <td>1485.032311</td>\n",
       "      <td>91377.23524</td>\n",
       "    </tr>\n",
       "    <tr>\n",
       "      <th>2</th>\n",
       "      <td>148839</td>\n",
       "      <td>3.608110e+11</td>\n",
       "      <td>3.608110e+11</td>\n",
       "      <td>36</td>\n",
       "      <td>81</td>\n",
       "      <td>122702</td>\n",
       "      <td>1</td>\n",
       "      <td>408.0</td>\n",
       "      <td>New York-Newark, NY-NJ-CT-PA</td>\n",
       "      <td>35620.0</td>\n",
       "      <td>...</td>\n",
       "      <td>0.154780</td>\n",
       "      <td>0.000067</td>\n",
       "      <td>0.159039</td>\n",
       "      <td>1</td>\n",
       "      <td>1</td>\n",
       "      <td>10</td>\n",
       "      <td>18</td>\n",
       "      <td>9.666667</td>\n",
       "      <td>1110.284578</td>\n",
       "      <td>72542.55913</td>\n",
       "    </tr>\n",
       "    <tr>\n",
       "      <th>3</th>\n",
       "      <td>148840</td>\n",
       "      <td>3.608100e+11</td>\n",
       "      <td>3.608100e+11</td>\n",
       "      <td>36</td>\n",
       "      <td>81</td>\n",
       "      <td>28300</td>\n",
       "      <td>5</td>\n",
       "      <td>408.0</td>\n",
       "      <td>New York-Newark, NY-NJ-CT-PA</td>\n",
       "      <td>35620.0</td>\n",
       "      <td>...</td>\n",
       "      <td>0.535719</td>\n",
       "      <td>0.000238</td>\n",
       "      <td>0.567026</td>\n",
       "      <td>5</td>\n",
       "      <td>20</td>\n",
       "      <td>1</td>\n",
       "      <td>19</td>\n",
       "      <td>10.833333</td>\n",
       "      <td>1096.360269</td>\n",
       "      <td>36881.79980</td>\n",
       "    </tr>\n",
       "    <tr>\n",
       "      <th>4</th>\n",
       "      <td>148841</td>\n",
       "      <td>3.608110e+11</td>\n",
       "      <td>3.608110e+11</td>\n",
       "      <td>36</td>\n",
       "      <td>81</td>\n",
       "      <td>148300</td>\n",
       "      <td>4</td>\n",
       "      <td>408.0</td>\n",
       "      <td>New York-Newark, NY-NJ-CT-PA</td>\n",
       "      <td>35620.0</td>\n",
       "      <td>...</td>\n",
       "      <td>0.082963</td>\n",
       "      <td>0.000036</td>\n",
       "      <td>0.084785</td>\n",
       "      <td>14</td>\n",
       "      <td>12</td>\n",
       "      <td>19</td>\n",
       "      <td>14</td>\n",
       "      <td>15.333333</td>\n",
       "      <td>2652.063831</td>\n",
       "      <td>286388.75040</td>\n",
       "    </tr>\n",
       "  </tbody>\n",
       "</table>\n",
       "<p>5 rows × 117 columns</p>\n",
       "</div>"
      ],
      "text/plain": [
       "   OBJECTID       GEOID10       GEOID20  STATEFP  COUNTYFP  TRACTCE  BLKGRPCE  \\\n",
       "0    148837  3.608100e+11  3.608100e+11       36        81    25900         2   \n",
       "1    148838  3.608100e+11  3.608100e+11       36        81    16600         2   \n",
       "2    148839  3.608110e+11  3.608110e+11       36        81   122702         1   \n",
       "3    148840  3.608100e+11  3.608100e+11       36        81    28300         5   \n",
       "4    148841  3.608110e+11  3.608110e+11       36        81   148300         4   \n",
       "\n",
       "     CSA                      CSA_Name     CBSA  ...     D5DRI      D5DE  \\\n",
       "0  408.0  New York-Newark, NY-NJ-CT-PA  35620.0  ...  0.506986  0.000222   \n",
       "1  408.0  New York-Newark, NY-NJ-CT-PA  35620.0  ...  0.029180  0.000061   \n",
       "2  408.0  New York-Newark, NY-NJ-CT-PA  35620.0  ...  0.154780  0.000067   \n",
       "3  408.0  New York-Newark, NY-NJ-CT-PA  35620.0  ...  0.535719  0.000238   \n",
       "4  408.0  New York-Newark, NY-NJ-CT-PA  35620.0  ...  0.082963  0.000036   \n",
       "\n",
       "      D5DEI  D2A_Ranked  D2B_Ranked  D3B_Ranked  D4A_Ranked  NatWalkInd  \\\n",
       "0  0.528185          19          15          17          18   17.333333   \n",
       "1  0.144270           9           9          15          19   14.333333   \n",
       "2  0.159039           1           1          10          18    9.666667   \n",
       "3  0.567026           5          20           1          19   10.833333   \n",
       "4  0.084785          14          12          19          14   15.333333   \n",
       "\n",
       "   Shape_Length    Shape_Area  \n",
       "0   1016.744396   64619.12044  \n",
       "1   1485.032311   91377.23524  \n",
       "2   1110.284578   72542.55913  \n",
       "3   1096.360269   36881.79980  \n",
       "4   2652.063831  286388.75040  \n",
       "\n",
       "[5 rows x 117 columns]"
      ]
     },
     "execution_count": 6,
     "metadata": {},
     "output_type": "execute_result"
    }
   ],
   "source": [
    "# Reading in filtered EPA data to NYC specifically \n",
    "EPA_NYC_df = pd.read_csv('github_data/EPA_NYC_out.csv')\n",
    "EPA_NYC_df.head()"
   ]
  },
  {
   "cell_type": "markdown",
   "metadata": {},
   "source": [
    "Below, we have 2167 census tracts for NYC in the dataset (according to Google there are 2168, so this tracks)"
   ]
  },
  {
   "cell_type": "code",
   "execution_count": 3,
   "metadata": {},
   "outputs": [
    {
     "name": "stdout",
     "output_type": "stream",
     "text": [
      "Number of unique combinations: 2167\n"
     ]
    }
   ],
   "source": [
    "unique_groups = EPA_NYC_df.groupby(['TRACTCE', 'COUNTYFP']).ngroups\n",
    "print(\"Number of unique combinations:\", unique_groups)"
   ]
  },
  {
   "cell_type": "markdown",
   "metadata": {},
   "source": [
    "## Next Step: Data visualizations and statistics\n",
    "- 1: pick features we wanna examine (mainly from EPA dataset)\n",
    "- 2: group by the 2167 census tracts\n",
    "    - figure out how to merge certain data when grouping (mean, median, max)\n",
    "- 3: regression, clustering, pca, correlations, etc."
   ]
  },
  {
   "cell_type": "code",
   "execution_count": 4,
   "metadata": {},
   "outputs": [],
   "source": [
    "# group by census tract"
   ]
  },
  {
   "cell_type": "code",
   "execution_count": 5,
   "metadata": {},
   "outputs": [
    {
     "data": {
      "text/plain": [
       "6493"
      ]
     },
     "execution_count": 5,
     "metadata": {},
     "output_type": "execute_result"
    }
   ],
   "source": []
  }
 ],
 "metadata": {
  "kernelspec": {
   "display_name": "base",
   "language": "python",
   "name": "python3"
  },
  "language_info": {
   "codemirror_mode": {
    "name": "ipython",
    "version": 3
   },
   "file_extension": ".py",
   "mimetype": "text/x-python",
   "name": "python",
   "nbconvert_exporter": "python",
   "pygments_lexer": "ipython3",
   "version": "3.11.8"
  }
 },
 "nbformat": 4,
 "nbformat_minor": 2
}
